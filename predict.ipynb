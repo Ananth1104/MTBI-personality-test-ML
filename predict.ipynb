{
 "cells": [
  {
   "cell_type": "code",
   "execution_count": 2,
   "id": "5fae50a5-b310-4783-80fc-9268bcfd2a34",
   "metadata": {},
   "outputs": [
    {
     "ename": "ModuleNotFoundError",
     "evalue": "No module named 'preprocess'",
     "output_type": "error",
     "traceback": [
      "\u001b[1;31m---------------------------------------------------------------------------\u001b[0m",
      "\u001b[1;31mModuleNotFoundError\u001b[0m                       Traceback (most recent call last)",
      "Cell \u001b[1;32mIn[2], line 2\u001b[0m\n\u001b[0;32m      1\u001b[0m \u001b[38;5;28;01mfrom\u001b[39;00m \u001b[38;5;21;01mjoblib\u001b[39;00m \u001b[38;5;28;01mimport\u001b[39;00m load\n\u001b[1;32m----> 2\u001b[0m \u001b[38;5;28;01mfrom\u001b[39;00m \u001b[38;5;21;01mpreprocess\u001b[39;00m \u001b[38;5;28;01mimport\u001b[39;00m prep_data\n\u001b[0;32m      3\u001b[0m \u001b[38;5;28;01mimport\u001b[39;00m \u001b[38;5;21;01mtime\u001b[39;00m\n\u001b[0;32m      4\u001b[0m \u001b[38;5;28;01mimport\u001b[39;00m \u001b[38;5;21;01mos\u001b[39;00m\n",
      "\u001b[1;31mModuleNotFoundError\u001b[0m: No module named 'preprocess'"
     ]
    }
   ],
   "source": [
    "from joblib import load\n",
    "from preprocess import prep_data\n",
    "import time\n",
    "import os\n",
    "\n",
    "###############################################################################\n",
    "#            FUNCTION TO COMBINE THE RESULTS OF THE 4 MODELS                  #\n",
    "###############################################################################\n",
    "\n",
    "\n",
    "def trace_back(combined):\n",
    "    type_list = [\n",
    "        {\"0\": \"I\", \"1\": \"E\"},\n",
    "        {\"0\": \"N\", \"1\": \"S\"},\n",
    "        {\"0\": \"F\", \"1\": \"T\"},\n",
    "        {\"0\": \"P\", \"1\": \"J\"},\n",
    "    ]\n",
    "    result = []\n",
    "    for num in combined:\n",
    "        s = \"\"\n",
    "        for i in range(len(num)):\n",
    "            s += type_list[i][num[i]]\n",
    "        result.append(s)\n",
    "    return result\n",
    "\n",
    "\n",
    "def combine_classes(y_pred1, y_pred2, y_pred3, y_pred4):\n",
    "    combined = []\n",
    "    for i in range(len(y_pred1)):\n",
    "        combined.append(\n",
    "            str(y_pred1[i]) + str(y_pred2[i]) + str(y_pred3[i]) + str(y_pred4[i])\n",
    "        )\n",
    "    result = trace_back(combined)\n",
    "    return result[0]\n",
    "\n",
    "\n",
    "###############################################################################\n",
    "#                           MODEL PREDICTIONS                                 #\n",
    "###############################################################################\n",
    "\n",
    "\n",
    "def predict(s):\n",
    "\n",
    "    X = prep_data(s)\n",
    "\n",
    "    # loading the 4 models\n",
    "    EorI_model = load(os.path.join(\"models\", \"clf_is_Extrovert.joblib\"))\n",
    "    SorN_model = load(os.path.join(\"models\", \"clf_is_Sensing.joblib\"))\n",
    "    TorF_model = load(os.path.join(\"models\", \"clf_is_Thinking.joblib\"))\n",
    "    JorP_model = load(os.path.join(\"models\", \"clf_is_Judging.joblib\"))\n",
    "\n",
    "    # predicting\n",
    "    EorI_pred = EorI_model.predict(X)\n",
    "    SorN_pred = SorN_model.predict(X)\n",
    "    TorF_pred = TorF_model.predict(X)\n",
    "    JorP_pred = JorP_model.predict(X)\n",
    "\n",
    "    # combining the predictions from the 4 models\n",
    "    result = combine_classes(EorI_pred, SorN_pred, TorF_pred, JorP_pred)\n",
    "\n",
    "    return result\n",
    "\n",
    "\n",
    "###############################################################################\n",
    "#                                   MAIN                                      #\n",
    "###############################################################################\n",
    "\n",
    "if __name__ == \"__main__\":\n",
    "    t = time.time()\n",
    "    string = \"I just wanna to go home!!!!!! :sadpanda: https://www.youtube.com/watch?v=TQP20LTI84A\"\n",
    "    print(string)\n",
    "    print(predict_e(string))\n",
    "    print(f\"Preprocessing Time: {time.time() - t} seconds\")\n"
   ]
  },
  {
   "cell_type": "code",
   "execution_count": null,
   "id": "02aa59c4-20ef-498e-bec7-d01b489b698b",
   "metadata": {},
   "outputs": [],
   "source": []
  }
 ],
 "metadata": {
  "kernelspec": {
   "display_name": "Python 3 (ipykernel)",
   "language": "python",
   "name": "python3"
  },
  "language_info": {
   "codemirror_mode": {
    "name": "ipython",
    "version": 3
   },
   "file_extension": ".py",
   "mimetype": "text/x-python",
   "name": "python",
   "nbconvert_exporter": "python",
   "pygments_lexer": "ipython3",
   "version": "3.11.5"
  }
 },
 "nbformat": 4,
 "nbformat_minor": 5
}
